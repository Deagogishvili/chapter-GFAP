{
 "cells": [
  {
   "cell_type": "markdown",
   "id": "a78618e7-ccac-4312-b7df-d858b303426c",
   "metadata": {},
   "source": [
    "## The following notebook contains statistical analysis and the code for obtaining Figure 4C\n",
    "\n",
    "To calculate the uptake differences, peptide data for all time points were summed up and plotted against the pseudo-residue position on the Woods plot. In order to determine peptides with significant differences in deuterium uptake, the standard error of the mean (SEM) was calculated and the CI 99% value of the t-test at 2 degrees of freedom was used to calculate the threshold value in Da. KPBS - potassium phosphate buffer saline, aCSF - artificial cerebrospinal fluid, HDX-MS - hydrogen-deuterium-exchange mass spectrometry.\n",
    "#### Datasets used\n",
    "- Raw HDX data from aCSF and KPBS\n",
    "- Formatted data for the woods plot (the script to reformat the HDX data is commented out)\n",
    "\n",
    "#### Workflow\n",
    "- Import raw HDX data to compare two conditions\n",
    "- Calculate confidence interval thresholds\n",
    "\n",
    "#### Outpoot\n",
    "- Woods plot"
   ]
  },
  {
   "cell_type": "markdown",
   "id": "49dcf00c-36e1-47dd-91e2-7bfe0dea0b7e",
   "metadata": {},
   "source": [
    "### Import libraries"
   ]
  },
  {
   "cell_type": "code",
   "execution_count": 13,
   "id": "ea0ca765-3cb6-49e9-94d3-9cd976856f48",
   "metadata": {},
   "outputs": [],
   "source": [
    "import matplotlib.pyplot as plt\n",
    "from matplotlib.ticker import MultipleLocator\n",
    "from matplotlib.ticker import FormatStrFormatter\n",
    "from matplotlib import ticker\n",
    "%matplotlib inline\n",
    "import numpy as np\n",
    "import pandas as pd\n",
    "import seaborn as sns\n",
    "import statistics as stat\n",
    "import os\n",
    "import warnings\n",
    "warnings.filterwarnings(\"ignore\")"
   ]
  },
  {
   "cell_type": "markdown",
   "id": "e2bbbea7-2478-4619-9ded-66d8e7eab1d8",
   "metadata": {},
   "source": [
    "### Define paths"
   ]
  },
  {
   "cell_type": "code",
   "execution_count": 2,
   "id": "d6a1d637-6379-428d-803f-ccbd2fb02535",
   "metadata": {},
   "outputs": [],
   "source": [
    "data_path = os.path.dirname(os.getcwd()) + '/data'\n",
    "figure_path = os.path.dirname(os.getcwd()) + '/figures'"
   ]
  },
  {
   "cell_type": "markdown",
   "id": "87b31889-6a3b-4c0e-b871-0a944da2029c",
   "metadata": {},
   "source": [
    "### Import data"
   ]
  },
  {
   "cell_type": "code",
   "execution_count": 3,
   "id": "102a16fd-5731-4c90-a9a0-3ced84c2592f",
   "metadata": {},
   "outputs": [],
   "source": [
    "df = pd.read_csv(data_path + '/HDX_CSF_KPBS.txt' , sep='\\t', engine='python')"
   ]
  },
  {
   "cell_type": "markdown",
   "id": "8439adb1-1e45-4bad-9387-6724e7eb5f09",
   "metadata": {},
   "source": [
    "### Rename the columns and drop timepoints, only leave the summed up values"
   ]
  },
  {
   "cell_type": "code",
   "execution_count": 4,
   "id": "c59cbfa1-54cb-40ca-8da8-3e18f9fd3494",
   "metadata": {},
   "outputs": [
    {
     "data": {
      "text/html": [
       "<div>\n",
       "<style scoped>\n",
       "    .dataframe tbody tr th:only-of-type {\n",
       "        vertical-align: middle;\n",
       "    }\n",
       "\n",
       "    .dataframe tbody tr th {\n",
       "        vertical-align: top;\n",
       "    }\n",
       "\n",
       "    .dataframe thead th {\n",
       "        text-align: right;\n",
       "    }\n",
       "</style>\n",
       "<table border=\"1\" class=\"dataframe\">\n",
       "  <thead>\n",
       "    <tr style=\"text-align: right;\">\n",
       "      <th></th>\n",
       "      <th>peptide</th>\n",
       "      <th>Start</th>\n",
       "      <th>End</th>\n",
       "      <th>Sum</th>\n",
       "    </tr>\n",
       "  </thead>\n",
       "  <tbody>\n",
       "    <tr>\n",
       "      <th>0</th>\n",
       "      <td>AGFKETRASE</td>\n",
       "      <td>1</td>\n",
       "      <td>10</td>\n",
       "      <td>0.2183</td>\n",
       "    </tr>\n",
       "    <tr>\n",
       "      <th>1</th>\n",
       "      <td>AGFKETRASERAEM</td>\n",
       "      <td>1</td>\n",
       "      <td>14</td>\n",
       "      <td>0.1608</td>\n",
       "    </tr>\n",
       "    <tr>\n",
       "      <th>2</th>\n",
       "      <td>GFKETRASERAEM</td>\n",
       "      <td>2</td>\n",
       "      <td>14</td>\n",
       "      <td>-0.8053</td>\n",
       "    </tr>\n",
       "    <tr>\n",
       "      <th>3</th>\n",
       "      <td>ASERAEM</td>\n",
       "      <td>8</td>\n",
       "      <td>14</td>\n",
       "      <td>0.0818</td>\n",
       "    </tr>\n",
       "    <tr>\n",
       "      <th>4</th>\n",
       "      <td>MELNDRF</td>\n",
       "      <td>15</td>\n",
       "      <td>21</td>\n",
       "      <td>0.5136</td>\n",
       "    </tr>\n",
       "  </tbody>\n",
       "</table>\n",
       "</div>"
      ],
      "text/plain": [
       "          peptide  Start  End     Sum\n",
       "0      AGFKETRASE      1   10  0.2183\n",
       "1  AGFKETRASERAEM      1   14  0.1608\n",
       "2   GFKETRASERAEM      2   14 -0.8053\n",
       "3         ASERAEM      8   14  0.0818\n",
       "4         MELNDRF     15   21  0.5136"
      ]
     },
     "execution_count": 4,
     "metadata": {},
     "output_type": "execute_result"
    }
   ],
   "source": [
    "df['peptide'] = df['Sequence']\n",
    "df = df[['peptide', 'Start', 'End', 'Sum']]\n",
    "df.head(5)"
   ]
  },
  {
   "cell_type": "markdown",
   "id": "42cab58a-b957-40dd-af79-bc7aa9098d48",
   "metadata": {},
   "source": [
    "### Reformat the dataframe for the Woods plot\n",
    "\n",
    "One can run these few chunks if needed to reformat the data"
   ]
  },
  {
   "cell_type": "code",
   "execution_count": 5,
   "id": "2d17b862-ed48-4449-878c-ba78b53f45e2",
   "metadata": {},
   "outputs": [],
   "source": [
    "# import pandas as pd #module needed for excel like functionality\n",
    "# import matplotlib as mpl #needed for some additional matplotlib features above just plotting\n",
    "# import matplotlib.pyplot as plt #main plotting module\n",
    "# import matplotlib.patches as mpatches #needed for legends (coverage maps & woods plot)\n",
    "# import matplotlib.colors as mc #define colours as hexadecimal\n",
    "# import statistics as stat #calculating stats outside of pandas"
   ]
  },
  {
   "cell_type": "code",
   "execution_count": 6,
   "id": "1cf8cc00-0012-4d81-975f-89d6a07f1380",
   "metadata": {},
   "outputs": [],
   "source": [
    "# ProteinLength = 324\n",
    "\n",
    "# #read all peptide IDs (start & end numbers combined) into list\n",
    "# peptides = []\n",
    "# for i in df[\"peptide\"]:\n",
    "#     peptides.append(i)\n",
    "\n",
    "# #create a list of lists, each sub-list containing the start & end AA numbers of each peptide \n",
    "# StEn = []\n",
    "# for i in peptides:\n",
    "#     #convert number strings to int and split them into separate indices of a list of lists using \"-\" as the separator\n",
    "#     StEn.append([int(i) for i in i.split(\"-\") if i.isdigit()]) "
   ]
  },
  {
   "cell_type": "code",
   "execution_count": 7,
   "id": "a353c20e-17ca-4ab5-83e2-091546e55b94",
   "metadata": {},
   "outputs": [],
   "source": [
    "# wp = pd.DataFrame(index=(range(ProteinLength)), columns=peptides)\n",
    "# wp.index = wp.index + 1 #ensures that AA 1 has an index of 1, not 0\n",
    "\n",
    "# for i, j, k, l in zip(df['peptide'], df[\"Start\"], df[\"End\"], df[\"Sum\"]): \n",
    "#     wp.loc[wp.index[j-1:k], i] = l \n",
    "    \n",
    "# wp[\"mean\"] = wp.mean(axis=1) \n",
    "\n",
    "# wp.to_csv(Data_path + '/wp_CSF_KPBS_processed.csv')"
   ]
  },
  {
   "cell_type": "markdown",
   "id": "51f28059-8d18-4c45-aa90-cb3dcd4400fa",
   "metadata": {},
   "source": [
    "### Statistical calculations"
   ]
  },
  {
   "cell_type": "code",
   "execution_count": 8,
   "id": "7a41de6b-49c6-4c3d-9ad3-a6a3a5b6ff9e",
   "metadata": {},
   "outputs": [
    {
     "data": {
      "text/plain": [
       "count    62.000000\n",
       "mean      2.953161\n",
       "std       1.156148\n",
       "min       1.496900\n",
       "25%       2.101500\n",
       "50%       2.671750\n",
       "75%       3.805650\n",
       "max       6.431200\n",
       "Name: Sum, dtype: float64"
      ]
     },
     "execution_count": 8,
     "metadata": {},
     "output_type": "execute_result"
    }
   ],
   "source": [
    "# Calculate SEM - standard error of the mean\n",
    "sem = df['Sum'].sem()\n",
    "\n",
    "# Calculate which values are positive = higher than confidence intervals\n",
    "df['sign_95'] = df['Sum']-sem*4.303 # confidence interval 95%\n",
    "df['sign_99'] = df['Sum']-sem*9.925 # confidence interval 95%\n",
    "\n",
    "# Select only these peptides\n",
    "sign_pep_95 = df[df['sign_95'] > 0]\n",
    "sign_pep_99 = df[df['sign_99'] > 0]\n",
    "\n",
    "# Describe the column, check which value is the min value, to select it as a cut-off point for the plot\n",
    "sign_pep_99['Sum'].describe()"
   ]
  },
  {
   "cell_type": "code",
   "execution_count": 9,
   "id": "8518298e-eb11-4d42-859d-0384a4499200",
   "metadata": {},
   "outputs": [],
   "source": [
    "# Set the threshold\n",
    "CI_99 = 1.496900"
   ]
  },
  {
   "cell_type": "markdown",
   "id": "5677a43b-5455-4d6f-a50a-38af04b9a377",
   "metadata": {},
   "source": [
    "### Import reformatted dataset specifically for the Woods plot"
   ]
  },
  {
   "cell_type": "code",
   "execution_count": 10,
   "id": "87a0d51b-bb72-4f84-bb92-ec6011a79abb",
   "metadata": {},
   "outputs": [],
   "source": [
    "df = data_path + '/woods_plot.txt' \n",
    "df = pd.read_csv(df, sep='\\t', engine='python', header=None)"
   ]
  },
  {
   "cell_type": "code",
   "execution_count": 11,
   "id": "e7dd339f-5b7a-4536-bb08-9b74b2a76f4f",
   "metadata": {},
   "outputs": [],
   "source": [
    "exp = df.mask(df < CI_99, np.nan)\n",
    "prot = df.mask(df > CI_99, np.nan)"
   ]
  },
  {
   "cell_type": "code",
   "execution_count": 12,
   "id": "ffd6fb4c-77c3-4ce0-9e7f-d506954bfce6",
   "metadata": {},
   "outputs": [
    {
     "data": {
      "image/png": "[encoded data removed]",
      "text/plain": [
       "<Figure size 1296x576 with 1 Axes>"
      ]
     },
     "metadata": {
      "needs_background": "light"
     },
     "output_type": "display_data"
    }
   ],
   "source": [
    "fig, ax = plt.subplots(figsize=(18, 8))\n",
    "sns.set(font_scale=1.5)\n",
    "sns.set_style(style=\"white\")\n",
    "\n",
    "x = df[0].to_numpy()\n",
    "exp_pep = exp[exp.columns[1:100]].to_numpy()\n",
    "prot_pep = prot[prot.columns[1:100]].to_numpy()\n",
    "\n",
    "ax.eventplot(exp_pep, orientation=\"vertical\", linewidth=4, color='rosybrown')\n",
    "ax.eventplot(prot_pep, orientation=\"vertical\", linewidth=4, color = 'grey')\n",
    "\n",
    "plt.axhline(y=0, linewidth=2, color='grey', linestyle='-')\n",
    "plt.axhline(y=-CI_99, linewidth=2, color='grey', linestyle='--')\n",
    "plt.axhline(y=CI_99, linewidth=2, color='grey', linestyle='--')\n",
    "ax.step(df[0].to_numpy(), df.iloc[:, 100].to_numpy(), linewidth=2.5, ls='-', color='crimson')\n",
    "\n",
    "ax.set(xlim=(0, 324), xticks=np.arange(0, 324),\n",
    "       ylim=(-2, 7), yticks=np.arange(-1.2, 7))\n",
    "\n",
    "x_locator = MultipleLocator(20)\n",
    "y_locator = MultipleLocator(0.5)\n",
    "ax.xaxis.set_major_locator(x_locator)\n",
    "ax.yaxis.set_major_locator(y_locator)\n",
    "\n",
    "ax.set_ylabel('Δ HDX (Da)', size=25)\n",
    "plt.show()\n",
    "fig.savefig(figure_path + \"/CSF_KPBS_woods_plot.png\", dpi=600, bbox_inches='tight')"
   ]
  }
 ],
 "metadata": {
  "kernelspec": {
   "display_name": "Python 3 (ipykernel)",
   "language": "python",
   "name": "python3"
  },
  "language_info": {
   "codemirror_mode": {
    "name": "ipython",
    "version": 3
   },
   "file_extension": ".py",
   "mimetype": "text/x-python",
   "name": "python",
   "nbconvert_exporter": "python",
   "pygments_lexer": "ipython3",
   "version": "3.9.7"
  }
 },
 "nbformat": 4,
 "nbformat_minor": 5
}
